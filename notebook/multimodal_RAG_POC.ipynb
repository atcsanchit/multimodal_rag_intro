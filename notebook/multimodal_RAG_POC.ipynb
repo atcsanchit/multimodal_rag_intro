{
  "cells": [
    {
      "cell_type": "code",
      "execution_count": 3,
      "metadata": {
        "colab": {
          "base_uri": "https://localhost:8080/"
        },
        "id": "2gGsUCLEUjwk",
        "outputId": "6ca434f2-963b-4018-e0fb-d78b68dda444"
      },
      "outputs": [
        {
          "name": "stdout",
          "output_type": "stream",
          "text": [
            "Collecting pytesseract\n",
            "  Downloading pytesseract-0.3.13-py3-none-any.whl.metadata (11 kB)\n",
            "Collecting faiss-cpu\n",
            "  Downloading faiss_cpu-1.10.0-cp311-cp311-manylinux_2_28_x86_64.whl.metadata (4.4 kB)\n",
            "Collecting pdf2image\n",
            "  Downloading pdf2image-1.17.0-py3-none-any.whl.metadata (6.2 kB)\n",
            "Requirement already satisfied: langchain in /usr/local/lib/python3.11/dist-packages (0.3.19)\n",
            "Collecting langchain-mistralai\n",
            "  Downloading langchain_mistralai-0.2.7-py3-none-any.whl.metadata (2.0 kB)\n",
            "Collecting PyPDF2\n",
            "  Downloading pypdf2-3.0.1-py3-none-any.whl.metadata (6.8 kB)\n",
            "Collecting python-dotenv\n",
            "  Downloading python_dotenv-1.0.1-py3-none-any.whl.metadata (23 kB)\n",
            "Requirement already satisfied: huggingface-hub in /usr/local/lib/python3.11/dist-packages (0.28.1)\n",
            "Requirement already satisfied: packaging>=21.3 in /usr/local/lib/python3.11/dist-packages (from pytesseract) (24.2)\n",
            "Requirement already satisfied: Pillow>=8.0.0 in /usr/local/lib/python3.11/dist-packages (from pytesseract) (11.1.0)\n",
            "Requirement already satisfied: numpy<3.0,>=1.25.0 in /usr/local/lib/python3.11/dist-packages (from faiss-cpu) (1.26.4)\n",
            "Requirement already satisfied: langchain-core<1.0.0,>=0.3.35 in /usr/local/lib/python3.11/dist-packages (from langchain) (0.3.40)\n",
            "Requirement already satisfied: langchain-text-splitters<1.0.0,>=0.3.6 in /usr/local/lib/python3.11/dist-packages (from langchain) (0.3.6)\n",
            "Requirement already satisfied: langsmith<0.4,>=0.1.17 in /usr/local/lib/python3.11/dist-packages (from langchain) (0.3.11)\n",
            "Requirement already satisfied: pydantic<3.0.0,>=2.7.4 in /usr/local/lib/python3.11/dist-packages (from langchain) (2.10.6)\n",
            "Requirement already satisfied: SQLAlchemy<3,>=1.4 in /usr/local/lib/python3.11/dist-packages (from langchain) (2.0.38)\n",
            "Requirement already satisfied: requests<3,>=2 in /usr/local/lib/python3.11/dist-packages (from langchain) (2.32.3)\n",
            "Requirement already satisfied: PyYAML>=5.3 in /usr/local/lib/python3.11/dist-packages (from langchain) (6.0.2)\n",
            "Requirement already satisfied: aiohttp<4.0.0,>=3.8.3 in /usr/local/lib/python3.11/dist-packages (from langchain) (3.11.13)\n",
            "Requirement already satisfied: tenacity!=8.4.0,<10,>=8.1.0 in /usr/local/lib/python3.11/dist-packages (from langchain) (9.0.0)\n",
            "Requirement already satisfied: tokenizers<1,>=0.15.1 in /usr/local/lib/python3.11/dist-packages (from langchain-mistralai) (0.21.0)\n",
            "Requirement already satisfied: httpx<1,>=0.25.2 in /usr/local/lib/python3.11/dist-packages (from langchain-mistralai) (0.28.1)\n",
            "Collecting httpx-sse<1,>=0.3.1 (from langchain-mistralai)\n",
            "  Downloading httpx_sse-0.4.0-py3-none-any.whl.metadata (9.0 kB)\n",
            "Requirement already satisfied: filelock in /usr/local/lib/python3.11/dist-packages (from huggingface-hub) (3.17.0)\n",
            "Requirement already satisfied: fsspec>=2023.5.0 in /usr/local/lib/python3.11/dist-packages (from huggingface-hub) (2024.10.0)\n",
            "Requirement already satisfied: tqdm>=4.42.1 in /usr/local/lib/python3.11/dist-packages (from huggingface-hub) (4.67.1)\n",
            "Requirement already satisfied: typing-extensions>=3.7.4.3 in /usr/local/lib/python3.11/dist-packages (from huggingface-hub) (4.12.2)\n",
            "Requirement already satisfied: aiohappyeyeballs>=2.3.0 in /usr/local/lib/python3.11/dist-packages (from aiohttp<4.0.0,>=3.8.3->langchain) (2.4.6)\n",
            "Requirement already satisfied: aiosignal>=1.1.2 in /usr/local/lib/python3.11/dist-packages (from aiohttp<4.0.0,>=3.8.3->langchain) (1.3.2)\n",
            "Requirement already satisfied: attrs>=17.3.0 in /usr/local/lib/python3.11/dist-packages (from aiohttp<4.0.0,>=3.8.3->langchain) (25.1.0)\n",
            "Requirement already satisfied: frozenlist>=1.1.1 in /usr/local/lib/python3.11/dist-packages (from aiohttp<4.0.0,>=3.8.3->langchain) (1.5.0)\n",
            "Requirement already satisfied: multidict<7.0,>=4.5 in /usr/local/lib/python3.11/dist-packages (from aiohttp<4.0.0,>=3.8.3->langchain) (6.1.0)\n",
            "Requirement already satisfied: propcache>=0.2.0 in /usr/local/lib/python3.11/dist-packages (from aiohttp<4.0.0,>=3.8.3->langchain) (0.3.0)\n",
            "Requirement already satisfied: yarl<2.0,>=1.17.0 in /usr/local/lib/python3.11/dist-packages (from aiohttp<4.0.0,>=3.8.3->langchain) (1.18.3)\n",
            "Requirement already satisfied: anyio in /usr/local/lib/python3.11/dist-packages (from httpx<1,>=0.25.2->langchain-mistralai) (3.7.1)\n",
            "Requirement already satisfied: certifi in /usr/local/lib/python3.11/dist-packages (from httpx<1,>=0.25.2->langchain-mistralai) (2025.1.31)\n",
            "Requirement already satisfied: httpcore==1.* in /usr/local/lib/python3.11/dist-packages (from httpx<1,>=0.25.2->langchain-mistralai) (1.0.7)\n",
            "Requirement already satisfied: idna in /usr/local/lib/python3.11/dist-packages (from httpx<1,>=0.25.2->langchain-mistralai) (3.10)\n",
            "Requirement already satisfied: h11<0.15,>=0.13 in /usr/local/lib/python3.11/dist-packages (from httpcore==1.*->httpx<1,>=0.25.2->langchain-mistralai) (0.14.0)\n",
            "Requirement already satisfied: jsonpatch<2.0,>=1.33 in /usr/local/lib/python3.11/dist-packages (from langchain-core<1.0.0,>=0.3.35->langchain) (1.33)\n",
            "Requirement already satisfied: orjson<4.0.0,>=3.9.14 in /usr/local/lib/python3.11/dist-packages (from langsmith<0.4,>=0.1.17->langchain) (3.10.15)\n",
            "Requirement already satisfied: requests-toolbelt<2.0.0,>=1.0.0 in /usr/local/lib/python3.11/dist-packages (from langsmith<0.4,>=0.1.17->langchain) (1.0.0)\n",
            "Requirement already satisfied: zstandard<0.24.0,>=0.23.0 in /usr/local/lib/python3.11/dist-packages (from langsmith<0.4,>=0.1.17->langchain) (0.23.0)\n",
            "Requirement already satisfied: annotated-types>=0.6.0 in /usr/local/lib/python3.11/dist-packages (from pydantic<3.0.0,>=2.7.4->langchain) (0.7.0)\n",
            "Requirement already satisfied: pydantic-core==2.27.2 in /usr/local/lib/python3.11/dist-packages (from pydantic<3.0.0,>=2.7.4->langchain) (2.27.2)\n",
            "Requirement already satisfied: charset-normalizer<4,>=2 in /usr/local/lib/python3.11/dist-packages (from requests<3,>=2->langchain) (3.4.1)\n",
            "Requirement already satisfied: urllib3<3,>=1.21.1 in /usr/local/lib/python3.11/dist-packages (from requests<3,>=2->langchain) (2.3.0)\n",
            "Requirement already satisfied: greenlet!=0.4.17 in /usr/local/lib/python3.11/dist-packages (from SQLAlchemy<3,>=1.4->langchain) (3.1.1)\n",
            "Requirement already satisfied: jsonpointer>=1.9 in /usr/local/lib/python3.11/dist-packages (from jsonpatch<2.0,>=1.33->langchain-core<1.0.0,>=0.3.35->langchain) (3.0.0)\n",
            "Requirement already satisfied: sniffio>=1.1 in /usr/local/lib/python3.11/dist-packages (from anyio->httpx<1,>=0.25.2->langchain-mistralai) (1.3.1)\n",
            "Downloading pytesseract-0.3.13-py3-none-any.whl (14 kB)\n",
            "Downloading faiss_cpu-1.10.0-cp311-cp311-manylinux_2_28_x86_64.whl (30.7 MB)\n",
            "\u001b[2K   \u001b[90m━━━━━━━━━━━━━━━━━━━━━━━━━━━━━━━━━━━━━━━━\u001b[0m \u001b[32m30.7/30.7 MB\u001b[0m \u001b[31m60.4 MB/s\u001b[0m eta \u001b[36m0:00:00\u001b[0m\n",
            "\u001b[?25hDownloading pdf2image-1.17.0-py3-none-any.whl (11 kB)\n",
            "Downloading langchain_mistralai-0.2.7-py3-none-any.whl (15 kB)\n",
            "Downloading pypdf2-3.0.1-py3-none-any.whl (232 kB)\n",
            "\u001b[2K   \u001b[90m━━━━━━━━━━━━━━━━━━━━━━━━━━━━━━━━━━━━━━━━\u001b[0m \u001b[32m232.6/232.6 kB\u001b[0m \u001b[31m20.3 MB/s\u001b[0m eta \u001b[36m0:00:00\u001b[0m\n",
            "\u001b[?25hDownloading python_dotenv-1.0.1-py3-none-any.whl (19 kB)\n",
            "Downloading httpx_sse-0.4.0-py3-none-any.whl (7.8 kB)\n",
            "Installing collected packages: python-dotenv, pytesseract, PyPDF2, pdf2image, httpx-sse, faiss-cpu, langchain-mistralai\n",
            "Successfully installed PyPDF2-3.0.1 faiss-cpu-1.10.0 httpx-sse-0.4.0 langchain-mistralai-0.2.7 pdf2image-1.17.0 pytesseract-0.3.13 python-dotenv-1.0.1\n"
          ]
        }
      ],
      "source": [
        "!pip install pytesseract faiss-cpu pdf2image langchain langchain-mistralai PyPDF2 python-dotenv huggingface-hub"
      ]
    },
    {
      "cell_type": "code",
      "execution_count": 5,
      "metadata": {
        "colab": {
          "base_uri": "https://localhost:8080/"
        },
        "id": "MynrsCHUWfDj",
        "outputId": "6d2f97bc-2bba-4415-80b2-fc42caf984a7"
      },
      "outputs": [
        {
          "name": "stdout",
          "output_type": "stream",
          "text": [
            "Collecting langchain-community\n",
            "  Downloading langchain_community-0.3.19-py3-none-any.whl.metadata (2.4 kB)\n",
            "Collecting langchain-core<1.0.0,>=0.3.41 (from langchain-community)\n",
            "  Downloading langchain_core-0.3.43-py3-none-any.whl.metadata (5.9 kB)\n",
            "Collecting langchain<1.0.0,>=0.3.20 (from langchain-community)\n",
            "  Downloading langchain-0.3.20-py3-none-any.whl.metadata (7.7 kB)\n",
            "Requirement already satisfied: SQLAlchemy<3,>=1.4 in /usr/local/lib/python3.11/dist-packages (from langchain-community) (2.0.38)\n",
            "Requirement already satisfied: requests<3,>=2 in /usr/local/lib/python3.11/dist-packages (from langchain-community) (2.32.3)\n",
            "Requirement already satisfied: PyYAML>=5.3 in /usr/local/lib/python3.11/dist-packages (from langchain-community) (6.0.2)\n",
            "Requirement already satisfied: aiohttp<4.0.0,>=3.8.3 in /usr/local/lib/python3.11/dist-packages (from langchain-community) (3.11.13)\n",
            "Requirement already satisfied: tenacity!=8.4.0,<10,>=8.1.0 in /usr/local/lib/python3.11/dist-packages (from langchain-community) (9.0.0)\n",
            "Collecting dataclasses-json<0.7,>=0.5.7 (from langchain-community)\n",
            "  Downloading dataclasses_json-0.6.7-py3-none-any.whl.metadata (25 kB)\n",
            "Collecting pydantic-settings<3.0.0,>=2.4.0 (from langchain-community)\n",
            "  Downloading pydantic_settings-2.8.1-py3-none-any.whl.metadata (3.5 kB)\n",
            "Requirement already satisfied: langsmith<0.4,>=0.1.125 in /usr/local/lib/python3.11/dist-packages (from langchain-community) (0.3.11)\n",
            "Requirement already satisfied: httpx-sse<1.0.0,>=0.4.0 in /usr/local/lib/python3.11/dist-packages (from langchain-community) (0.4.0)\n",
            "Requirement already satisfied: numpy<3,>=1.26.2 in /usr/local/lib/python3.11/dist-packages (from langchain-community) (1.26.4)\n",
            "Requirement already satisfied: aiohappyeyeballs>=2.3.0 in /usr/local/lib/python3.11/dist-packages (from aiohttp<4.0.0,>=3.8.3->langchain-community) (2.4.6)\n",
            "Requirement already satisfied: aiosignal>=1.1.2 in /usr/local/lib/python3.11/dist-packages (from aiohttp<4.0.0,>=3.8.3->langchain-community) (1.3.2)\n",
            "Requirement already satisfied: attrs>=17.3.0 in /usr/local/lib/python3.11/dist-packages (from aiohttp<4.0.0,>=3.8.3->langchain-community) (25.1.0)\n",
            "Requirement already satisfied: frozenlist>=1.1.1 in /usr/local/lib/python3.11/dist-packages (from aiohttp<4.0.0,>=3.8.3->langchain-community) (1.5.0)\n",
            "Requirement already satisfied: multidict<7.0,>=4.5 in /usr/local/lib/python3.11/dist-packages (from aiohttp<4.0.0,>=3.8.3->langchain-community) (6.1.0)\n",
            "Requirement already satisfied: propcache>=0.2.0 in /usr/local/lib/python3.11/dist-packages (from aiohttp<4.0.0,>=3.8.3->langchain-community) (0.3.0)\n",
            "Requirement already satisfied: yarl<2.0,>=1.17.0 in /usr/local/lib/python3.11/dist-packages (from aiohttp<4.0.0,>=3.8.3->langchain-community) (1.18.3)\n",
            "Collecting marshmallow<4.0.0,>=3.18.0 (from dataclasses-json<0.7,>=0.5.7->langchain-community)\n",
            "  Downloading marshmallow-3.26.1-py3-none-any.whl.metadata (7.3 kB)\n",
            "Collecting typing-inspect<1,>=0.4.0 (from dataclasses-json<0.7,>=0.5.7->langchain-community)\n",
            "  Downloading typing_inspect-0.9.0-py3-none-any.whl.metadata (1.5 kB)\n",
            "Requirement already satisfied: langchain-text-splitters<1.0.0,>=0.3.6 in /usr/local/lib/python3.11/dist-packages (from langchain<1.0.0,>=0.3.20->langchain-community) (0.3.6)\n",
            "Requirement already satisfied: pydantic<3.0.0,>=2.7.4 in /usr/local/lib/python3.11/dist-packages (from langchain<1.0.0,>=0.3.20->langchain-community) (2.10.6)\n",
            "Requirement already satisfied: jsonpatch<2.0,>=1.33 in /usr/local/lib/python3.11/dist-packages (from langchain-core<1.0.0,>=0.3.41->langchain-community) (1.33)\n",
            "Requirement already satisfied: packaging<25,>=23.2 in /usr/local/lib/python3.11/dist-packages (from langchain-core<1.0.0,>=0.3.41->langchain-community) (24.2)\n",
            "Requirement already satisfied: typing-extensions>=4.7 in /usr/local/lib/python3.11/dist-packages (from langchain-core<1.0.0,>=0.3.41->langchain-community) (4.12.2)\n",
            "Requirement already satisfied: httpx<1,>=0.23.0 in /usr/local/lib/python3.11/dist-packages (from langsmith<0.4,>=0.1.125->langchain-community) (0.28.1)\n",
            "Requirement already satisfied: orjson<4.0.0,>=3.9.14 in /usr/local/lib/python3.11/dist-packages (from langsmith<0.4,>=0.1.125->langchain-community) (3.10.15)\n",
            "Requirement already satisfied: requests-toolbelt<2.0.0,>=1.0.0 in /usr/local/lib/python3.11/dist-packages (from langsmith<0.4,>=0.1.125->langchain-community) (1.0.0)\n",
            "Requirement already satisfied: zstandard<0.24.0,>=0.23.0 in /usr/local/lib/python3.11/dist-packages (from langsmith<0.4,>=0.1.125->langchain-community) (0.23.0)\n",
            "Requirement already satisfied: python-dotenv>=0.21.0 in /usr/local/lib/python3.11/dist-packages (from pydantic-settings<3.0.0,>=2.4.0->langchain-community) (1.0.1)\n",
            "Requirement already satisfied: charset-normalizer<4,>=2 in /usr/local/lib/python3.11/dist-packages (from requests<3,>=2->langchain-community) (3.4.1)\n",
            "Requirement already satisfied: idna<4,>=2.5 in /usr/local/lib/python3.11/dist-packages (from requests<3,>=2->langchain-community) (3.10)\n",
            "Requirement already satisfied: urllib3<3,>=1.21.1 in /usr/local/lib/python3.11/dist-packages (from requests<3,>=2->langchain-community) (2.3.0)\n",
            "Requirement already satisfied: certifi>=2017.4.17 in /usr/local/lib/python3.11/dist-packages (from requests<3,>=2->langchain-community) (2025.1.31)\n",
            "Requirement already satisfied: greenlet!=0.4.17 in /usr/local/lib/python3.11/dist-packages (from SQLAlchemy<3,>=1.4->langchain-community) (3.1.1)\n",
            "Requirement already satisfied: anyio in /usr/local/lib/python3.11/dist-packages (from httpx<1,>=0.23.0->langsmith<0.4,>=0.1.125->langchain-community) (3.7.1)\n",
            "Requirement already satisfied: httpcore==1.* in /usr/local/lib/python3.11/dist-packages (from httpx<1,>=0.23.0->langsmith<0.4,>=0.1.125->langchain-community) (1.0.7)\n",
            "Requirement already satisfied: h11<0.15,>=0.13 in /usr/local/lib/python3.11/dist-packages (from httpcore==1.*->httpx<1,>=0.23.0->langsmith<0.4,>=0.1.125->langchain-community) (0.14.0)\n",
            "Requirement already satisfied: jsonpointer>=1.9 in /usr/local/lib/python3.11/dist-packages (from jsonpatch<2.0,>=1.33->langchain-core<1.0.0,>=0.3.41->langchain-community) (3.0.0)\n",
            "Requirement already satisfied: annotated-types>=0.6.0 in /usr/local/lib/python3.11/dist-packages (from pydantic<3.0.0,>=2.7.4->langchain<1.0.0,>=0.3.20->langchain-community) (0.7.0)\n",
            "Requirement already satisfied: pydantic-core==2.27.2 in /usr/local/lib/python3.11/dist-packages (from pydantic<3.0.0,>=2.7.4->langchain<1.0.0,>=0.3.20->langchain-community) (2.27.2)\n",
            "Collecting mypy-extensions>=0.3.0 (from typing-inspect<1,>=0.4.0->dataclasses-json<0.7,>=0.5.7->langchain-community)\n",
            "  Downloading mypy_extensions-1.0.0-py3-none-any.whl.metadata (1.1 kB)\n",
            "Requirement already satisfied: sniffio>=1.1 in /usr/local/lib/python3.11/dist-packages (from anyio->httpx<1,>=0.23.0->langsmith<0.4,>=0.1.125->langchain-community) (1.3.1)\n",
            "Downloading langchain_community-0.3.19-py3-none-any.whl (2.5 MB)\n",
            "\u001b[2K   \u001b[90m━━━━━━━━━━━━━━━━━━━━━━━━━━━━━━━━━━━━━━━━\u001b[0m \u001b[32m2.5/2.5 MB\u001b[0m \u001b[31m66.6 MB/s\u001b[0m eta \u001b[36m0:00:00\u001b[0m\n",
            "\u001b[?25hDownloading dataclasses_json-0.6.7-py3-none-any.whl (28 kB)\n",
            "Downloading langchain-0.3.20-py3-none-any.whl (1.0 MB)\n",
            "\u001b[2K   \u001b[90m━━━━━━━━━━━━━━━━━━━━━━━━━━━━━━━━━━━━━━━━\u001b[0m \u001b[32m1.0/1.0 MB\u001b[0m \u001b[31m51.5 MB/s\u001b[0m eta \u001b[36m0:00:00\u001b[0m\n",
            "\u001b[?25hDownloading langchain_core-0.3.43-py3-none-any.whl (415 kB)\n",
            "\u001b[2K   \u001b[90m━━━━━━━━━━━━━━━━━━━━━━━━━━━━━━━━━━━━━━━━\u001b[0m \u001b[32m415.4/415.4 kB\u001b[0m \u001b[31m27.8 MB/s\u001b[0m eta \u001b[36m0:00:00\u001b[0m\n",
            "\u001b[?25hDownloading pydantic_settings-2.8.1-py3-none-any.whl (30 kB)\n",
            "Downloading marshmallow-3.26.1-py3-none-any.whl (50 kB)\n",
            "\u001b[2K   \u001b[90m━━━━━━━━━━━━━━━━━━━━━━━━━━━━━━━━━━━━━━━━\u001b[0m \u001b[32m50.9/50.9 kB\u001b[0m \u001b[31m4.8 MB/s\u001b[0m eta \u001b[36m0:00:00\u001b[0m\n",
            "\u001b[?25hDownloading typing_inspect-0.9.0-py3-none-any.whl (8.8 kB)\n",
            "Downloading mypy_extensions-1.0.0-py3-none-any.whl (4.7 kB)\n",
            "Installing collected packages: mypy-extensions, marshmallow, typing-inspect, pydantic-settings, dataclasses-json, langchain-core, langchain, langchain-community\n",
            "  Attempting uninstall: langchain-core\n",
            "    Found existing installation: langchain-core 0.3.40\n",
            "    Uninstalling langchain-core-0.3.40:\n",
            "      Successfully uninstalled langchain-core-0.3.40\n",
            "  Attempting uninstall: langchain\n",
            "    Found existing installation: langchain 0.3.19\n",
            "    Uninstalling langchain-0.3.19:\n",
            "      Successfully uninstalled langchain-0.3.19\n",
            "Successfully installed dataclasses-json-0.6.7 langchain-0.3.20 langchain-community-0.3.19 langchain-core-0.3.43 marshmallow-3.26.1 mypy-extensions-1.0.0 pydantic-settings-2.8.1 typing-inspect-0.9.0\n"
          ]
        }
      ],
      "source": [
        "!pip install -U langchain-community"
      ]
    },
    {
      "cell_type": "code",
      "execution_count": 10,
      "metadata": {
        "colab": {
          "base_uri": "https://localhost:8080/"
        },
        "id": "gFhhCLs_YdNG",
        "outputId": "38b78ac3-7514-4f32-acc1-31b9c27c1838"
      },
      "outputs": [
        {
          "name": "stdout",
          "output_type": "stream",
          "text": [
            "Reading package lists... Done\n",
            "Building dependency tree... Done\n",
            "Reading state information... Done\n",
            "The following NEW packages will be installed:\n",
            "  poppler-utils\n",
            "0 upgraded, 1 newly installed, 0 to remove and 29 not upgraded.\n",
            "Need to get 186 kB of archives.\n",
            "After this operation, 696 kB of additional disk space will be used.\n",
            "Get:1 http://archive.ubuntu.com/ubuntu jammy-updates/main amd64 poppler-utils amd64 22.02.0-2ubuntu0.6 [186 kB]\n",
            "Fetched 186 kB in 2s (118 kB/s)\n",
            "Selecting previously unselected package poppler-utils.\n",
            "(Reading database ... 124947 files and directories currently installed.)\n",
            "Preparing to unpack .../poppler-utils_22.02.0-2ubuntu0.6_amd64.deb ...\n",
            "Unpacking poppler-utils (22.02.0-2ubuntu0.6) ...\n",
            "Setting up poppler-utils (22.02.0-2ubuntu0.6) ...\n",
            "Processing triggers for man-db (2.10.2-1) ...\n"
          ]
        }
      ],
      "source": [
        "!apt-get install -y poppler-utils"
      ]
    },
    {
      "cell_type": "code",
      "execution_count": 11,
      "metadata": {
        "id": "GT68PavCYifE"
      },
      "outputs": [],
      "source": [
        "POPPLER_PATH = \"/usr/bin\"  # This is the default for Colab"
      ]
    },
    {
      "cell_type": "code",
      "execution_count": 16,
      "metadata": {
        "colab": {
          "base_uri": "https://localhost:8080/"
        },
        "id": "p_RWx4BNZ4Zs",
        "outputId": "629a9d1e-7b6c-4afb-c8dc-718de112b67b"
      },
      "outputs": [
        {
          "name": "stdout",
          "output_type": "stream",
          "text": [
            "\u001b[33m\r0% [Working]\u001b[0m\r            \rGet:1 https://cloud.r-project.org/bin/linux/ubuntu jammy-cran40/ InRelease [3,632 B]\n",
            "\u001b[33m\r0% [Connecting to archive.ubuntu.com] [Connecting to security.ubuntu.com (91.189.91.82)] [1 InReleas\u001b[0m\u001b[33m\r0% [Connecting to archive.ubuntu.com] [Connecting to security.ubuntu.com (91.189.91.82)] [Connecting\u001b[0m\r                                                                                                    \rGet:2 https://developer.download.nvidia.com/compute/cuda/repos/ubuntu2204/x86_64  InRelease [1,581 B]\n",
            "Get:3 https://developer.download.nvidia.com/compute/cuda/repos/ubuntu2204/x86_64  Packages [1,369 kB]\n",
            "Get:4 http://security.ubuntu.com/ubuntu jammy-security InRelease [129 kB]\n",
            "Hit:5 http://archive.ubuntu.com/ubuntu jammy InRelease\n",
            "Hit:6 https://ppa.launchpadcontent.net/deadsnakes/ppa/ubuntu jammy InRelease\n",
            "Get:7 http://archive.ubuntu.com/ubuntu jammy-updates InRelease [128 kB]\n",
            "Hit:8 https://ppa.launchpadcontent.net/graphics-drivers/ppa/ubuntu jammy InRelease\n",
            "Get:9 https://r2u.stat.illinois.edu/ubuntu jammy InRelease [6,555 B]\n",
            "Hit:10 https://ppa.launchpadcontent.net/ubuntugis/ppa/ubuntu jammy InRelease\n",
            "Get:11 https://r2u.stat.illinois.edu/ubuntu jammy/main amd64 Packages [2,668 kB]\n",
            "Get:12 http://security.ubuntu.com/ubuntu jammy-security/main amd64 Packages [2,682 kB]\n",
            "Get:13 http://archive.ubuntu.com/ubuntu jammy-backports InRelease [127 kB]\n",
            "Get:14 http://archive.ubuntu.com/ubuntu jammy-updates/restricted amd64 Packages [3,934 kB]\n",
            "Get:15 http://security.ubuntu.com/ubuntu jammy-security/restricted amd64 Packages [3,774 kB]\n",
            "Get:16 http://security.ubuntu.com/ubuntu jammy-security/multiverse amd64 Packages [56.4 kB]\n",
            "Get:17 https://r2u.stat.illinois.edu/ubuntu jammy/main all Packages [8,731 kB]\n",
            "Get:18 http://archive.ubuntu.com/ubuntu jammy-updates/main amd64 Packages [2,988 kB]\n",
            "Get:19 http://archive.ubuntu.com/ubuntu jammy-updates/multiverse amd64 Packages [64.2 kB]\n",
            "Get:20 http://archive.ubuntu.com/ubuntu jammy-updates/universe amd64 Packages [1,533 kB]\n",
            "Fetched 28.2 MB in 6s (4,573 kB/s)\n",
            "Reading package lists... Done\n",
            "Building dependency tree... Done\n",
            "Reading state information... Done\n",
            "33 packages can be upgraded. Run 'apt list --upgradable' to see them.\n",
            "\u001b[1;33mW: \u001b[0mSkipping acquire of configured file 'main/source/Sources' as repository 'https://r2u.stat.illinois.edu/ubuntu jammy InRelease' does not seem to provide it (sources.list entry misspelt?)\u001b[0m\n",
            "Reading package lists... Done\n",
            "Building dependency tree... Done\n",
            "Reading state information... Done\n",
            "The following additional packages will be installed:\n",
            "  tesseract-ocr-eng tesseract-ocr-osd\n",
            "The following NEW packages will be installed:\n",
            "  tesseract-ocr tesseract-ocr-eng tesseract-ocr-osd\n",
            "0 upgraded, 3 newly installed, 0 to remove and 33 not upgraded.\n",
            "Need to get 4,816 kB of archives.\n",
            "After this operation, 15.6 MB of additional disk space will be used.\n",
            "Get:1 http://archive.ubuntu.com/ubuntu jammy/universe amd64 tesseract-ocr-eng all 1:4.00~git30-7274cfa-1.1 [1,591 kB]\n",
            "Get:2 http://archive.ubuntu.com/ubuntu jammy/universe amd64 tesseract-ocr-osd all 1:4.00~git30-7274cfa-1.1 [2,990 kB]\n",
            "Get:3 http://archive.ubuntu.com/ubuntu jammy/universe amd64 tesseract-ocr amd64 4.1.1-2.1build1 [236 kB]\n",
            "Fetched 4,816 kB in 3s (1,827 kB/s)\n",
            "Selecting previously unselected package tesseract-ocr-eng.\n",
            "(Reading database ... 124977 files and directories currently installed.)\n",
            "Preparing to unpack .../tesseract-ocr-eng_1%3a4.00~git30-7274cfa-1.1_all.deb ...\n",
            "Unpacking tesseract-ocr-eng (1:4.00~git30-7274cfa-1.1) ...\n",
            "Selecting previously unselected package tesseract-ocr-osd.\n",
            "Preparing to unpack .../tesseract-ocr-osd_1%3a4.00~git30-7274cfa-1.1_all.deb ...\n",
            "Unpacking tesseract-ocr-osd (1:4.00~git30-7274cfa-1.1) ...\n",
            "Selecting previously unselected package tesseract-ocr.\n",
            "Preparing to unpack .../tesseract-ocr_4.1.1-2.1build1_amd64.deb ...\n",
            "Unpacking tesseract-ocr (4.1.1-2.1build1) ...\n",
            "Setting up tesseract-ocr-eng (1:4.00~git30-7274cfa-1.1) ...\n",
            "Setting up tesseract-ocr-osd (1:4.00~git30-7274cfa-1.1) ...\n",
            "Setting up tesseract-ocr (4.1.1-2.1build1) ...\n",
            "Processing triggers for man-db (2.10.2-1) ...\n",
            "Requirement already satisfied: pytesseract in /usr/local/lib/python3.11/dist-packages (0.3.13)\n",
            "Requirement already satisfied: packaging>=21.3 in /usr/local/lib/python3.11/dist-packages (from pytesseract) (24.2)\n",
            "Requirement already satisfied: Pillow>=8.0.0 in /usr/local/lib/python3.11/dist-packages (from pytesseract) (11.1.0)\n"
          ]
        }
      ],
      "source": [
        "!apt update && apt install -y tesseract-ocr\n",
        "!pip install pytesseract\n"
      ]
    },
    {
      "cell_type": "code",
      "execution_count": 18,
      "metadata": {
        "colab": {
          "base_uri": "https://localhost:8080/"
        },
        "id": "EkDMB205BJjY",
        "outputId": "21e92d7d-3c1b-4d03-9f1f-32d5e2593fd1"
      },
      "outputs": [
        {
          "name": "stdout",
          "output_type": "stream",
          "text": [
            "content='Based on the provided context, the block diagram for the project \"AIRLINES ROUTE PREDICTING PROGRAM\" can be explained as a series of steps or blocks that outline the methodology. Here\\'s a breakdown of the block diagram:\\n\\n1. **Learn Python Programming Language**\\n   - The first step is to gain proficiency in Python, as it will be the primary language used for the project.\\n\\n2. **Learn About Different Libraries in Python**\\n   - Familiarize with relevant Python libraries such as pandas, NumPy, scikit-learn, etc., which are essential for data manipulation, analysis, and machine learning.\\n\\n3. **Study the Basics of Data Structures, Data Analysis and Operation**\\n   - Understand fundamental data structures and analytical operations that will be used to process and analyze aviation data.\\n\\n4. **Data Collection**\\n   - Gather relevant datasets for the aviation industry, including passenger flow, demand frequency, and aircraft selection data.\\n\\n5. **Data Cleaning**\\n   - Clean the collected data to handle missing values, outliers, and any inconsistencies that could affect the analysis.\\n\\n6. **Exploratory Data Analysis (EDA)**\\n   - Perform exploratory data analysis to understand the patterns, trends, and correlations within the dataset.\\n\\n7. **Model Development**\\n   - Develop machine learning models using suitable algorithms to predict the best routes based on passenger demand and other factors.\\n\\n8. **Model Testing**\\n   - Test the developed models using different datasets to ensure their accuracy and reliability.\\n\\n9. **Validation and Comparative Study**\\n   - Validate the dataset using learning algorithms and perform a comparative study to evaluate the performance of different models.\\n\\n10. **Select the Performance Metrics**\\n    - Choose appropriate evaluation metrics such as accuracy of prediction and the model\\'s ability to work on different datasets.\\n\\n11. **Final Assessment and Report Submission**\\n    - Conduct a final assessment of the project, document the findings, and submit the report.\\n\\nHere is a visual representation of the block diagram:\\n\\n```\\n1. Learn Python Programming Language\\n   |\\n2. Learn About Different Libraries in Python\\n   |\\n3. Study the Basics of Data Structures, Data Analysis and Operation\\n   |\\n4. Data Collection\\n   |\\n5. Data Cleaning\\n   |\\n6. Exploratory Data Analysis (EDA)\\n   |\\n7. Model Development\\n   |\\n8. Model Testing\\n   |\\n9. Validation and Comparative Study\\n   |\\n10. Select the Performance Metrics\\n   |\\n11. Final Assessment and Report Submission\\n```\\n\\nThis block diagram provides a clear roadmap for the project, ensuring that each step is systematically addressed to achieve the objectives.' additional_kwargs={} response_metadata={'token_usage': {'prompt_tokens': 1727, 'total_tokens': 2364, 'completion_tokens': 637}, 'model': 'mistral-large-latest', 'finish_reason': 'stop'} id='run-d1dfd319-2ac9-436b-b190-c75a79f509ee-0' usage_metadata={'input_tokens': 1727, 'output_tokens': 637, 'total_tokens': 2364}\n"
          ]
        }
      ],
      "source": [
        "# Required Imports\n",
        "import os\n",
        "import pytesseract\n",
        "import faiss\n",
        "import torch\n",
        "from pdf2image import convert_from_path\n",
        "from langchain.text_splitter import RecursiveCharacterTextSplitter\n",
        "from langchain_mistralai import ChatMistralAI\n",
        "from langchain.embeddings import HuggingFaceEmbeddings\n",
        "from langchain.vectorstores import FAISS\n",
        "from PyPDF2 import PdfReader\n",
        "from dotenv import load_dotenv\n",
        "\n",
        "# # Load API keys from environment variables\n",
        "load_dotenv()\n",
        "api_key = os.getenv(\"MISTRAL_API_KEY\")\n",
        "if not api_key:\n",
        "    raise ValueError(\"MISTRAL_API_KEY is missing! Please set it in your environment variables.\")\n",
        "\n",
        "# Set PDF path\n",
        "pdf_path = \"practicum_report.pdf\"  # Change this to your PDF file path\n",
        "\n",
        "# Set Poppler path (Adjust for your OS)\n",
        "if os.name == \"nt\":  # Windows\n",
        "    POPPLER_PATH = r\"C:\\poppler-23.11.0\\bin\"  # Change this to your Poppler path\n",
        "elif os.name == \"posix\":  # Linux/Mac\n",
        "    POPPLER_PATH = \"/usr/bin\"  # Default for Linux\n",
        "else:\n",
        "    raise OSError(\"Unsupported operating system\")\n",
        "\n",
        "# Function to extract text from images in PDF\n",
        "def extract_text_from_images(pdf_path):\n",
        "    try:\n",
        "        images = convert_from_path(pdf_path, poppler_path=POPPLER_PATH if os.name == \"nt\" else None)\n",
        "        text = \"\\n\".join([pytesseract.image_to_string(img) for img in images])\n",
        "        return text.strip()\n",
        "    except Exception as e:\n",
        "        print(f\"Error extracting text from images: {e}\")\n",
        "        return \"\"\n",
        "\n",
        "# Function to extract text from PDF\n",
        "def extract_text_from_pdf(pdf_path):\n",
        "    try:\n",
        "        pdf_reader = PdfReader(pdf_path)\n",
        "        text = \"\\n\".join([page.extract_text() or \"\" for page in pdf_reader.pages])\n",
        "        return text.strip()\n",
        "    except Exception as e:\n",
        "        print(f\"Error extracting text from PDF: {e}\")\n",
        "        return \"\"\n",
        "\n",
        "# Function to split text into smaller chunks\n",
        "def split_text(text, chunk_size=2000, chunk_overlap=200):\n",
        "    text_splitter = RecursiveCharacterTextSplitter(chunk_size=chunk_size, chunk_overlap=chunk_overlap)\n",
        "    return text_splitter.split_text(text)\n",
        "\n",
        "# Initialize Mistral AI Model\n",
        "def initialize_mistral():\n",
        "    return ChatMistralAI(model_name=\"mistral-large-latest\", api_key=api_key)\n",
        "\n",
        "# Function to create vector store\n",
        "def create_vector_store(chunks):\n",
        "    embeddings = HuggingFaceEmbeddings(\n",
        "        model_name=\"sentence-transformers/all-MiniLM-L6-v2\",\n",
        "        model_kwargs={\"device\": \"cuda\" if torch.cuda.is_available() else \"cpu\"}\n",
        "    )\n",
        "    return FAISS.from_texts(chunks, embeddings)\n",
        "\n",
        "# Retrieval-Augmented Generation (RAG) function\n",
        "def multimodal_rag(pdf_path, query):\n",
        "    # Extract text from PDF (both OCR and normal text)\n",
        "    pdf_text = extract_text_from_pdf(pdf_path)\n",
        "    image_text = extract_text_from_images(pdf_path)\n",
        "    full_text = pdf_text + \"\\n\" + image_text if image_text else pdf_text\n",
        "\n",
        "    if not full_text.strip():\n",
        "        raise ValueError(\"No text extracted from the document.\")\n",
        "\n",
        "    # Split into chunks\n",
        "    chunks = split_text(full_text)\n",
        "\n",
        "    # Create vector store for retrieval\n",
        "    vector_store = create_vector_store(chunks)\n",
        "\n",
        "    # Retrieve relevant chunks\n",
        "    retrieved_docs = vector_store.similarity_search(query, k=3)\n",
        "    context = \" \".join([doc.page_content for doc in retrieved_docs])\n",
        "\n",
        "    # Initialize Mistral model\n",
        "    llm = initialize_mistral()\n",
        "\n",
        "    # Generate response using retrieved context\n",
        "    prompt = f\"Use the following context to answer the query:\\n\\n{context}\\n\\nQuery: {query}\"\n",
        "    response = llm.invoke(prompt)\n",
        "\n",
        "    return response\n",
        "\n",
        "# Example usage\n",
        "query = \"Explain the block diagram for the project\"\n",
        "\n",
        "# Run multimodal RAG\n",
        "response = multimodal_rag(pdf_path, query)\n",
        "print(response)\n"
      ]
    },
    {
      "cell_type": "code",
      "execution_count": null,
      "metadata": {
        "colab": {
          "base_uri": "https://localhost:8080/"
        },
        "id": "lur1wJAbJpK4",
        "outputId": "bb9d0797-95a2-4410-a5cc-28815077337c"
      },
      "outputs": [
        {
          "name": "stdout",
          "output_type": "stream",
          "text": [
            "200 {'object': 'list', 'data': [{'id': 'ministral-3b-2410', 'object': 'model', 'created': 1741544731, 'owned_by': 'mistralai', 'capabilities': {'completion_chat': True, 'completion_fim': False, 'function_calling': True, 'fine_tuning': True, 'vision': False}, 'name': 'ministral-3b-2410', 'description': 'Official ministral-3b-2410 Mistral AI model', 'max_context_length': 131072, 'aliases': ['ministral-3b-latest'], 'deprecation': None, 'default_model_temperature': 0.3, 'type': 'base'}, {'id': 'ministral-3b-latest', 'object': 'model', 'created': 1741544731, 'owned_by': 'mistralai', 'capabilities': {'completion_chat': True, 'completion_fim': False, 'function_calling': True, 'fine_tuning': True, 'vision': False}, 'name': 'ministral-3b-2410', 'description': 'Official ministral-3b-2410 Mistral AI model', 'max_context_length': 131072, 'aliases': ['ministral-3b-2410'], 'deprecation': None, 'default_model_temperature': 0.3, 'type': 'base'}, {'id': 'ministral-8b-2410', 'object': 'model', 'created': 1741544731, 'owned_by': 'mistralai', 'capabilities': {'completion_chat': True, 'completion_fim': False, 'function_calling': True, 'fine_tuning': False, 'vision': False}, 'name': 'ministral-8b-2410', 'description': 'Official ministral-8b-2410 Mistral AI model', 'max_context_length': 131072, 'aliases': ['ministral-8b-latest'], 'deprecation': None, 'default_model_temperature': 0.3, 'type': 'base'}, {'id': 'ministral-8b-latest', 'object': 'model', 'created': 1741544731, 'owned_by': 'mistralai', 'capabilities': {'completion_chat': True, 'completion_fim': False, 'function_calling': True, 'fine_tuning': False, 'vision': False}, 'name': 'ministral-8b-2410', 'description': 'Official ministral-8b-2410 Mistral AI model', 'max_context_length': 131072, 'aliases': ['ministral-8b-2410'], 'deprecation': None, 'default_model_temperature': 0.3, 'type': 'base'}, {'id': 'open-mistral-7b', 'object': 'model', 'created': 1741544731, 'owned_by': 'mistralai', 'capabilities': {'completion_chat': True, 'completion_fim': False, 'function_calling': True, 'fine_tuning': False, 'vision': False}, 'name': 'open-mistral-7b', 'description': 'Official open-mistral-7b Mistral AI model', 'max_context_length': 32768, 'aliases': ['mistral-tiny', 'mistral-tiny-2312'], 'deprecation': None, 'default_model_temperature': 0.7, 'type': 'base'}, {'id': 'mistral-tiny', 'object': 'model', 'created': 1741544731, 'owned_by': 'mistralai', 'capabilities': {'completion_chat': True, 'completion_fim': False, 'function_calling': True, 'fine_tuning': False, 'vision': False}, 'name': 'open-mistral-7b', 'description': 'Official open-mistral-7b Mistral AI model', 'max_context_length': 32768, 'aliases': ['open-mistral-7b', 'mistral-tiny-2312'], 'deprecation': None, 'default_model_temperature': 0.7, 'type': 'base'}, {'id': 'mistral-tiny-2312', 'object': 'model', 'created': 1741544731, 'owned_by': 'mistralai', 'capabilities': {'completion_chat': True, 'completion_fim': False, 'function_calling': True, 'fine_tuning': False, 'vision': False}, 'name': 'open-mistral-7b', 'description': 'Official open-mistral-7b Mistral AI model', 'max_context_length': 32768, 'aliases': ['open-mistral-7b', 'mistral-tiny'], 'deprecation': None, 'default_model_temperature': 0.7, 'type': 'base'}, {'id': 'open-mistral-nemo', 'object': 'model', 'created': 1741544731, 'owned_by': 'mistralai', 'capabilities': {'completion_chat': True, 'completion_fim': False, 'function_calling': True, 'fine_tuning': True, 'vision': False}, 'name': 'open-mistral-nemo', 'description': 'Official open-mistral-nemo Mistral AI model', 'max_context_length': 131072, 'aliases': ['open-mistral-nemo-2407', 'mistral-tiny-2407', 'mistral-tiny-latest'], 'deprecation': None, 'default_model_temperature': 0.3, 'type': 'base'}, {'id': 'open-mistral-nemo-2407', 'object': 'model', 'created': 1741544731, 'owned_by': 'mistralai', 'capabilities': {'completion_chat': True, 'completion_fim': False, 'function_calling': True, 'fine_tuning': True, 'vision': False}, 'name': 'open-mistral-nemo', 'description': 'Official open-mistral-nemo Mistral AI model', 'max_context_length': 131072, 'aliases': ['open-mistral-nemo', 'mistral-tiny-2407', 'mistral-tiny-latest'], 'deprecation': None, 'default_model_temperature': 0.3, 'type': 'base'}, {'id': 'mistral-tiny-2407', 'object': 'model', 'created': 1741544731, 'owned_by': 'mistralai', 'capabilities': {'completion_chat': True, 'completion_fim': False, 'function_calling': True, 'fine_tuning': True, 'vision': False}, 'name': 'open-mistral-nemo', 'description': 'Official open-mistral-nemo Mistral AI model', 'max_context_length': 131072, 'aliases': ['open-mistral-nemo', 'open-mistral-nemo-2407', 'mistral-tiny-latest'], 'deprecation': None, 'default_model_temperature': 0.3, 'type': 'base'}, {'id': 'mistral-tiny-latest', 'object': 'model', 'created': 1741544731, 'owned_by': 'mistralai', 'capabilities': {'completion_chat': True, 'completion_fim': False, 'function_calling': True, 'fine_tuning': True, 'vision': False}, 'name': 'open-mistral-nemo', 'description': 'Official open-mistral-nemo Mistral AI model', 'max_context_length': 131072, 'aliases': ['open-mistral-nemo', 'open-mistral-nemo-2407', 'mistral-tiny-2407'], 'deprecation': None, 'default_model_temperature': 0.3, 'type': 'base'}, {'id': 'open-mixtral-8x7b', 'object': 'model', 'created': 1741544731, 'owned_by': 'mistralai', 'capabilities': {'completion_chat': True, 'completion_fim': False, 'function_calling': True, 'fine_tuning': False, 'vision': False}, 'name': 'open-mixtral-8x7b', 'description': 'Official open-mixtral-8x7b Mistral AI model', 'max_context_length': 32768, 'aliases': ['mistral-small', 'mistral-small-2312'], 'deprecation': None, 'default_model_temperature': 0.7, 'type': 'base'}, {'id': 'mistral-small', 'object': 'model', 'created': 1741544731, 'owned_by': 'mistralai', 'capabilities': {'completion_chat': True, 'completion_fim': False, 'function_calling': True, 'fine_tuning': False, 'vision': False}, 'name': 'open-mixtral-8x7b', 'description': 'Official open-mixtral-8x7b Mistral AI model', 'max_context_length': 32768, 'aliases': ['open-mixtral-8x7b', 'mistral-small-2312'], 'deprecation': None, 'default_model_temperature': 0.7, 'type': 'base'}, {'id': 'mistral-small-2312', 'object': 'model', 'created': 1741544731, 'owned_by': 'mistralai', 'capabilities': {'completion_chat': True, 'completion_fim': False, 'function_calling': True, 'fine_tuning': False, 'vision': False}, 'name': 'open-mixtral-8x7b', 'description': 'Official open-mixtral-8x7b Mistral AI model', 'max_context_length': 32768, 'aliases': ['open-mixtral-8x7b', 'mistral-small'], 'deprecation': None, 'default_model_temperature': 0.7, 'type': 'base'}, {'id': 'open-mixtral-8x22b', 'object': 'model', 'created': 1741544731, 'owned_by': 'mistralai', 'capabilities': {'completion_chat': True, 'completion_fim': False, 'function_calling': True, 'fine_tuning': False, 'vision': False}, 'name': 'open-mixtral-8x22b', 'description': 'Official open-mixtral-8x22b Mistral AI model', 'max_context_length': 65536, 'aliases': ['open-mixtral-8x22b-2404'], 'deprecation': None, 'default_model_temperature': 0.7, 'type': 'base'}, {'id': 'open-mixtral-8x22b-2404', 'object': 'model', 'created': 1741544731, 'owned_by': 'mistralai', 'capabilities': {'completion_chat': True, 'completion_fim': False, 'function_calling': True, 'fine_tuning': False, 'vision': False}, 'name': 'open-mixtral-8x22b', 'description': 'Official open-mixtral-8x22b Mistral AI model', 'max_context_length': 65536, 'aliases': ['open-mixtral-8x22b'], 'deprecation': None, 'default_model_temperature': 0.7, 'type': 'base'}, {'id': 'mistral-small-2402', 'object': 'model', 'created': 1741544731, 'owned_by': 'mistralai', 'capabilities': {'completion_chat': True, 'completion_fim': False, 'function_calling': True, 'fine_tuning': True, 'vision': False}, 'name': 'mistral-small-2402', 'description': 'Official mistral-small-2402 Mistral AI model', 'max_context_length': 32768, 'aliases': [], 'deprecation': None, 'default_model_temperature': 0.7, 'type': 'base'}, {'id': 'mistral-small-2409', 'object': 'model', 'created': 1741544731, 'owned_by': 'mistralai', 'capabilities': {'completion_chat': True, 'completion_fim': False, 'function_calling': True, 'fine_tuning': True, 'vision': False}, 'name': 'mistral-small-2409', 'description': 'Official mistral-small-2409 Mistral AI model', 'max_context_length': 32768, 'aliases': [], 'deprecation': None, 'default_model_temperature': 0.7, 'type': 'base'}, {'id': 'mistral-medium-2312', 'object': 'model', 'created': 1741544731, 'owned_by': 'mistralai', 'capabilities': {'completion_chat': True, 'completion_fim': False, 'function_calling': True, 'fine_tuning': False, 'vision': False}, 'name': 'mistral-medium-2312', 'description': 'Official mistral-medium-2312 Mistral AI model', 'max_context_length': 32768, 'aliases': ['mistral-medium', 'mistral-medium-latest'], 'deprecation': None, 'default_model_temperature': 0.7, 'type': 'base'}, {'id': 'mistral-medium', 'object': 'model', 'created': 1741544731, 'owned_by': 'mistralai', 'capabilities': {'completion_chat': True, 'completion_fim': False, 'function_calling': True, 'fine_tuning': False, 'vision': False}, 'name': 'mistral-medium-2312', 'description': 'Official mistral-medium-2312 Mistral AI model', 'max_context_length': 32768, 'aliases': ['mistral-medium-2312', 'mistral-medium-latest'], 'deprecation': None, 'default_model_temperature': 0.7, 'type': 'base'}, {'id': 'mistral-medium-latest', 'object': 'model', 'created': 1741544731, 'owned_by': 'mistralai', 'capabilities': {'completion_chat': True, 'completion_fim': False, 'function_calling': True, 'fine_tuning': False, 'vision': False}, 'name': 'mistral-medium-2312', 'description': 'Official mistral-medium-2312 Mistral AI model', 'max_context_length': 32768, 'aliases': ['mistral-medium-2312', 'mistral-medium'], 'deprecation': None, 'default_model_temperature': 0.7, 'type': 'base'}, {'id': 'mistral-large-2402', 'object': 'model', 'created': 1741544731, 'owned_by': 'mistralai', 'capabilities': {'completion_chat': True, 'completion_fim': False, 'function_calling': True, 'fine_tuning': False, 'vision': False}, 'name': 'mistral-large-2402', 'description': 'Official mistral-large-2402 Mistral AI model', 'max_context_length': 32768, 'aliases': [], 'deprecation': None, 'default_model_temperature': 0.7, 'type': 'base'}, {'id': 'mistral-large-2407', 'object': 'model', 'created': 1741544731, 'owned_by': 'mistralai', 'capabilities': {'completion_chat': True, 'completion_fim': False, 'function_calling': True, 'fine_tuning': True, 'vision': False}, 'name': 'mistral-large-2407', 'description': 'Official mistral-large-2407 Mistral AI model', 'max_context_length': 131072, 'aliases': [], 'deprecation': None, 'default_model_temperature': 0.7, 'type': 'base'}, {'id': 'mistral-large-2411', 'object': 'model', 'created': 1741544731, 'owned_by': 'mistralai', 'capabilities': {'completion_chat': True, 'completion_fim': False, 'function_calling': True, 'fine_tuning': True, 'vision': False}, 'name': 'mistral-large-2411', 'description': 'Official mistral-large-2411 Mistral AI model', 'max_context_length': 131072, 'aliases': ['mistral-large-latest'], 'deprecation': None, 'default_model_temperature': 0.7, 'type': 'base'}, {'id': 'mistral-large-latest', 'object': 'model', 'created': 1741544731, 'owned_by': 'mistralai', 'capabilities': {'completion_chat': True, 'completion_fim': False, 'function_calling': True, 'fine_tuning': True, 'vision': False}, 'name': 'mistral-large-2411', 'description': 'Official mistral-large-2411 Mistral AI model', 'max_context_length': 131072, 'aliases': ['mistral-large-2411'], 'deprecation': None, 'default_model_temperature': 0.7, 'type': 'base'}, {'id': 'pixtral-large-2411', 'object': 'model', 'created': 1741544731, 'owned_by': 'mistralai', 'capabilities': {'completion_chat': True, 'completion_fim': False, 'function_calling': True, 'fine_tuning': False, 'vision': True}, 'name': 'pixtral-large-2411', 'description': 'Official pixtral-large-2411 Mistral AI model', 'max_context_length': 131072, 'aliases': ['pixtral-large-latest', 'mistral-large-pixtral-2411'], 'deprecation': None, 'default_model_temperature': 0.7, 'type': 'base'}, {'id': 'pixtral-large-latest', 'object': 'model', 'created': 1741544731, 'owned_by': 'mistralai', 'capabilities': {'completion_chat': True, 'completion_fim': False, 'function_calling': True, 'fine_tuning': False, 'vision': True}, 'name': 'pixtral-large-2411', 'description': 'Official pixtral-large-2411 Mistral AI model', 'max_context_length': 131072, 'aliases': ['pixtral-large-2411', 'mistral-large-pixtral-2411'], 'deprecation': None, 'default_model_temperature': 0.7, 'type': 'base'}, {'id': 'mistral-large-pixtral-2411', 'object': 'model', 'created': 1741544731, 'owned_by': 'mistralai', 'capabilities': {'completion_chat': True, 'completion_fim': False, 'function_calling': True, 'fine_tuning': False, 'vision': True}, 'name': 'pixtral-large-2411', 'description': 'Official pixtral-large-2411 Mistral AI model', 'max_context_length': 131072, 'aliases': ['pixtral-large-2411', 'pixtral-large-latest'], 'deprecation': None, 'default_model_temperature': 0.7, 'type': 'base'}, {'id': 'codestral-2405', 'object': 'model', 'created': 1741544731, 'owned_by': 'mistralai', 'capabilities': {'completion_chat': True, 'completion_fim': True, 'function_calling': True, 'fine_tuning': True, 'vision': False}, 'name': 'codestral-2405', 'description': 'Official codestral-2405 Mistral AI model', 'max_context_length': 32768, 'aliases': [], 'deprecation': None, 'default_model_temperature': 0.7, 'type': 'base'}, {'id': 'codestral-2501', 'object': 'model', 'created': 1741544731, 'owned_by': 'mistralai', 'capabilities': {'completion_chat': True, 'completion_fim': True, 'function_calling': True, 'fine_tuning': False, 'vision': False}, 'name': 'codestral-2501', 'description': 'Official codestral-2501 Mistral AI model', 'max_context_length': 262144, 'aliases': ['codestral-latest', 'codestral-2412', 'codestral-2411-rc5'], 'deprecation': None, 'default_model_temperature': 0.3, 'type': 'base'}, {'id': 'codestral-latest', 'object': 'model', 'created': 1741544731, 'owned_by': 'mistralai', 'capabilities': {'completion_chat': True, 'completion_fim': True, 'function_calling': True, 'fine_tuning': False, 'vision': False}, 'name': 'codestral-2501', 'description': 'Official codestral-2501 Mistral AI model', 'max_context_length': 262144, 'aliases': ['codestral-2501', 'codestral-2412', 'codestral-2411-rc5'], 'deprecation': None, 'default_model_temperature': 0.3, 'type': 'base'}, {'id': 'codestral-2412', 'object': 'model', 'created': 1741544731, 'owned_by': 'mistralai', 'capabilities': {'completion_chat': True, 'completion_fim': True, 'function_calling': True, 'fine_tuning': False, 'vision': False}, 'name': 'codestral-2501', 'description': 'Official codestral-2501 Mistral AI model', 'max_context_length': 262144, 'aliases': ['codestral-2501', 'codestral-latest', 'codestral-2411-rc5'], 'deprecation': None, 'default_model_temperature': 0.3, 'type': 'base'}, {'id': 'codestral-2411-rc5', 'object': 'model', 'created': 1741544731, 'owned_by': 'mistralai', 'capabilities': {'completion_chat': True, 'completion_fim': True, 'function_calling': True, 'fine_tuning': False, 'vision': False}, 'name': 'codestral-2501', 'description': 'Official codestral-2501 Mistral AI model', 'max_context_length': 262144, 'aliases': ['codestral-2501', 'codestral-latest', 'codestral-2412'], 'deprecation': None, 'default_model_temperature': 0.3, 'type': 'base'}, {'id': 'codestral-mamba-2407', 'object': 'model', 'created': 1741544731, 'owned_by': 'mistralai', 'capabilities': {'completion_chat': True, 'completion_fim': False, 'function_calling': True, 'fine_tuning': False, 'vision': False}, 'name': 'codestral-mamba-2407', 'description': 'Official codestral-mamba-2407 Mistral AI model', 'max_context_length': 262144, 'aliases': ['open-codestral-mamba', 'codestral-mamba-latest'], 'deprecation': None, 'default_model_temperature': 0.7, 'type': 'base'}, {'id': 'open-codestral-mamba', 'object': 'model', 'created': 1741544731, 'owned_by': 'mistralai', 'capabilities': {'completion_chat': True, 'completion_fim': False, 'function_calling': True, 'fine_tuning': False, 'vision': False}, 'name': 'codestral-mamba-2407', 'description': 'Official codestral-mamba-2407 Mistral AI model', 'max_context_length': 262144, 'aliases': ['codestral-mamba-2407', 'codestral-mamba-latest'], 'deprecation': None, 'default_model_temperature': 0.7, 'type': 'base'}, {'id': 'codestral-mamba-latest', 'object': 'model', 'created': 1741544731, 'owned_by': 'mistralai', 'capabilities': {'completion_chat': True, 'completion_fim': False, 'function_calling': True, 'fine_tuning': False, 'vision': False}, 'name': 'codestral-mamba-2407', 'description': 'Official codestral-mamba-2407 Mistral AI model', 'max_context_length': 262144, 'aliases': ['codestral-mamba-2407', 'open-codestral-mamba'], 'deprecation': None, 'default_model_temperature': 0.7, 'type': 'base'}, {'id': 'pixtral-12b-2409', 'object': 'model', 'created': 1741544731, 'owned_by': 'mistralai', 'capabilities': {'completion_chat': True, 'completion_fim': False, 'function_calling': True, 'fine_tuning': False, 'vision': True}, 'name': 'pixtral-12b-2409', 'description': 'Official pixtral-12b-2409 Mistral AI model', 'max_context_length': 131072, 'aliases': ['pixtral-12b', 'pixtral-12b-latest'], 'deprecation': None, 'default_model_temperature': 0.3, 'type': 'base'}, {'id': 'pixtral-12b', 'object': 'model', 'created': 1741544731, 'owned_by': 'mistralai', 'capabilities': {'completion_chat': True, 'completion_fim': False, 'function_calling': True, 'fine_tuning': False, 'vision': True}, 'name': 'pixtral-12b-2409', 'description': 'Official pixtral-12b-2409 Mistral AI model', 'max_context_length': 131072, 'aliases': ['pixtral-12b-2409', 'pixtral-12b-latest'], 'deprecation': None, 'default_model_temperature': 0.3, 'type': 'base'}, {'id': 'pixtral-12b-latest', 'object': 'model', 'created': 1741544731, 'owned_by': 'mistralai', 'capabilities': {'completion_chat': True, 'completion_fim': False, 'function_calling': True, 'fine_tuning': False, 'vision': True}, 'name': 'pixtral-12b-2409', 'description': 'Official pixtral-12b-2409 Mistral AI model', 'max_context_length': 131072, 'aliases': ['pixtral-12b-2409', 'pixtral-12b'], 'deprecation': None, 'default_model_temperature': 0.3, 'type': 'base'}, {'id': 'mistral-small-2501', 'object': 'model', 'created': 1741544731, 'owned_by': 'mistralai', 'capabilities': {'completion_chat': True, 'completion_fim': False, 'function_calling': True, 'fine_tuning': False, 'vision': False}, 'name': 'mistral-small-2501', 'description': 'Official mistral-small-2501 Mistral AI model', 'max_context_length': 32768, 'aliases': ['mistral-small-latest'], 'deprecation': None, 'default_model_temperature': 0.3, 'type': 'base'}, {'id': 'mistral-small-latest', 'object': 'model', 'created': 1741544731, 'owned_by': 'mistralai', 'capabilities': {'completion_chat': True, 'completion_fim': False, 'function_calling': True, 'fine_tuning': False, 'vision': False}, 'name': 'mistral-small-2501', 'description': 'Official mistral-small-2501 Mistral AI model', 'max_context_length': 32768, 'aliases': ['mistral-small-2501'], 'deprecation': None, 'default_model_temperature': 0.3, 'type': 'base'}, {'id': 'mistral-saba-2502', 'object': 'model', 'created': 1741544731, 'owned_by': 'mistralai', 'capabilities': {'completion_chat': True, 'completion_fim': False, 'function_calling': True, 'fine_tuning': False, 'vision': False}, 'name': 'mistral-saba-2502', 'description': 'Official mistral-saba-2502 Mistral AI model', 'max_context_length': 32768, 'aliases': ['mistral-saba-latest'], 'deprecation': None, 'default_model_temperature': 0.3, 'type': 'base'}, {'id': 'mistral-saba-latest', 'object': 'model', 'created': 1741544731, 'owned_by': 'mistralai', 'capabilities': {'completion_chat': True, 'completion_fim': False, 'function_calling': True, 'fine_tuning': False, 'vision': False}, 'name': 'mistral-saba-2502', 'description': 'Official mistral-saba-2502 Mistral AI model', 'max_context_length': 32768, 'aliases': ['mistral-saba-2502'], 'deprecation': None, 'default_model_temperature': 0.3, 'type': 'base'}, {'id': 'mistral-embed', 'object': 'model', 'created': 1741544731, 'owned_by': 'mistralai', 'capabilities': {'completion_chat': False, 'completion_fim': False, 'function_calling': False, 'fine_tuning': False, 'vision': False}, 'name': 'mistral-embed', 'description': 'Official mistral-embed Mistral AI model', 'max_context_length': 32768, 'aliases': [], 'deprecation': None, 'default_model_temperature': None, 'type': 'base'}, {'id': 'mistral-moderation-2411', 'object': 'model', 'created': 1741544731, 'owned_by': 'mistralai', 'capabilities': {'completion_chat': False, 'completion_fim': False, 'function_calling': False, 'fine_tuning': False, 'vision': False}, 'name': 'mistral-moderation-2411', 'description': 'Official mistral-moderation-2411 Mistral AI model', 'max_context_length': 32768, 'aliases': ['mistral-moderation-latest'], 'deprecation': None, 'default_model_temperature': None, 'type': 'base'}, {'id': 'mistral-moderation-latest', 'object': 'model', 'created': 1741544731, 'owned_by': 'mistralai', 'capabilities': {'completion_chat': False, 'completion_fim': False, 'function_calling': False, 'fine_tuning': False, 'vision': False}, 'name': 'mistral-moderation-2411', 'description': 'Official mistral-moderation-2411 Mistral AI model', 'max_context_length': 32768, 'aliases': ['mistral-moderation-2411'], 'deprecation': None, 'default_model_temperature': None, 'type': 'base'}, {'id': 'mistral-ocr-2503', 'object': 'model', 'created': 1741544731, 'owned_by': 'mistralai', 'capabilities': {'completion_chat': False, 'completion_fim': False, 'function_calling': False, 'fine_tuning': False, 'vision': False}, 'name': 'mistral-ocr-2503', 'description': 'Official mistral-ocr-2503 Mistral AI model', 'max_context_length': 32768, 'aliases': ['mistral-ocr-latest'], 'deprecation': None, 'default_model_temperature': None, 'type': 'base'}, {'id': 'mistral-ocr-latest', 'object': 'model', 'created': 1741544731, 'owned_by': 'mistralai', 'capabilities': {'completion_chat': False, 'completion_fim': False, 'function_calling': False, 'fine_tuning': False, 'vision': False}, 'name': 'mistral-ocr-2503', 'description': 'Official mistral-ocr-2503 Mistral AI model', 'max_context_length': 32768, 'aliases': ['mistral-ocr-2503'], 'deprecation': None, 'default_model_temperature': None, 'type': 'base'}]}\n"
          ]
        }
      ],
      "source": [
        "import requests\n",
        "\n",
        "API_KEY = \"r3qYjjqglkX5H9mmKXGjik2WMnZEOUYU\"  # Replace with your Mistral API key\n",
        "\n",
        "headers = {\n",
        "    \"Authorization\": f\"Bearer {API_KEY}\",  # Add Bearer token\n",
        "    \"Content-Type\": \"application/json\"\n",
        "}\n",
        "\n",
        "url = \"https://api.mistral.ai/v1/models\"\n",
        "\n",
        "response = requests.get(url, headers=headers)\n",
        "\n",
        "print(response.status_code, response.json())\n"
      ]
    },
    {
      "cell_type": "code",
      "execution_count": null,
      "metadata": {
        "colab": {
          "base_uri": "https://localhost:8080/"
        },
        "id": "aFiY6eV8DU7m",
        "outputId": "93e861f0-301b-427f-bea6-2c669a3f0fd5"
      },
      "outputs": [
        {
          "name": "stdout",
          "output_type": "stream",
          "text": [
            "Reading package lists... Done\n",
            "Building dependency tree... Done\n",
            "Reading state information... Done\n",
            "The following NEW packages will be installed:\n",
            "  libfaiss-dev\n",
            "0 upgraded, 1 newly installed, 0 to remove and 29 not upgraded.\n",
            "Need to get 949 kB of archives.\n",
            "After this operation, 6,224 kB of additional disk space will be used.\n",
            "Get:1 http://archive.ubuntu.com/ubuntu jammy/universe amd64 libfaiss-dev amd64 1.7.2-5 [949 kB]\n",
            "Fetched 949 kB in 2s (577 kB/s)\n",
            "Selecting previously unselected package libfaiss-dev:amd64.\n",
            "(Reading database ... 125024 files and directories currently installed.)\n",
            "Preparing to unpack .../libfaiss-dev_1.7.2-5_amd64.deb ...\n",
            "Unpacking libfaiss-dev:amd64 (1.7.2-5) ...\n",
            "Setting up libfaiss-dev:amd64 (1.7.2-5) ...\n",
            "Collecting faiss-cpu\n",
            "  Downloading faiss_cpu-1.10.0-cp311-cp311-manylinux_2_28_x86_64.whl.metadata (4.4 kB)\n",
            "Requirement already satisfied: numpy<3.0,>=1.25.0 in /usr/local/lib/python3.11/dist-packages (from faiss-cpu) (1.26.4)\n",
            "Requirement already satisfied: packaging in /usr/local/lib/python3.11/dist-packages (from faiss-cpu) (24.2)\n",
            "Downloading faiss_cpu-1.10.0-cp311-cp311-manylinux_2_28_x86_64.whl (30.7 MB)\n",
            "\u001b[2K   \u001b[90m━━━━━━━━━━━━━━━━━━━━━━━━━━━━━━━━━━━━━━━━\u001b[0m \u001b[32m30.7/30.7 MB\u001b[0m \u001b[31m68.3 MB/s\u001b[0m eta \u001b[36m0:00:00\u001b[0m\n",
            "\u001b[?25hInstalling collected packages: faiss-cpu\n",
            "Successfully installed faiss-cpu-1.10.0\n"
          ]
        }
      ],
      "source": [
        "!apt-get install -y libfaiss-dev\n",
        "!pip install faiss-cpu\n"
      ]
    },
    {
      "cell_type": "code",
      "execution_count": null,
      "metadata": {
        "colab": {
          "base_uri": "https://localhost:8080/"
        },
        "id": "bgwO92D3CV3Z",
        "outputId": "d4398f3c-a8ec-4251-eb96-0c45b0334e14"
      },
      "outputs": [
        {
          "name": "stdout",
          "output_type": "stream",
          "text": [
            "Reading package lists... Done\n",
            "Building dependency tree... Done\n",
            "Reading state information... Done\n",
            "The following additional packages will be installed:\n",
            "  tesseract-ocr-eng tesseract-ocr-osd\n",
            "The following NEW packages will be installed:\n",
            "  tesseract-ocr tesseract-ocr-eng tesseract-ocr-osd\n",
            "0 upgraded, 3 newly installed, 0 to remove and 29 not upgraded.\n",
            "Need to get 4,816 kB of archives.\n",
            "After this operation, 15.6 MB of additional disk space will be used.\n",
            "Get:1 http://archive.ubuntu.com/ubuntu jammy/universe amd64 tesseract-ocr-eng all 1:4.00~git30-7274cfa-1.1 [1,591 kB]\n",
            "Get:2 http://archive.ubuntu.com/ubuntu jammy/universe amd64 tesseract-ocr-osd all 1:4.00~git30-7274cfa-1.1 [2,990 kB]\n",
            "Get:3 http://archive.ubuntu.com/ubuntu jammy/universe amd64 tesseract-ocr amd64 4.1.1-2.1build1 [236 kB]\n",
            "Fetched 4,816 kB in 3s (1,713 kB/s)\n",
            "Selecting previously unselected package tesseract-ocr-eng.\n",
            "(Reading database ... 124977 files and directories currently installed.)\n",
            "Preparing to unpack .../tesseract-ocr-eng_1%3a4.00~git30-7274cfa-1.1_all.deb ...\n",
            "Unpacking tesseract-ocr-eng (1:4.00~git30-7274cfa-1.1) ...\n",
            "Selecting previously unselected package tesseract-ocr-osd.\n",
            "Preparing to unpack .../tesseract-ocr-osd_1%3a4.00~git30-7274cfa-1.1_all.deb ...\n",
            "Unpacking tesseract-ocr-osd (1:4.00~git30-7274cfa-1.1) ...\n",
            "Selecting previously unselected package tesseract-ocr.\n",
            "Preparing to unpack .../tesseract-ocr_4.1.1-2.1build1_amd64.deb ...\n",
            "Unpacking tesseract-ocr (4.1.1-2.1build1) ...\n",
            "Setting up tesseract-ocr-eng (1:4.00~git30-7274cfa-1.1) ...\n",
            "Setting up tesseract-ocr-osd (1:4.00~git30-7274cfa-1.1) ...\n",
            "Setting up tesseract-ocr (4.1.1-2.1build1) ...\n",
            "Processing triggers for man-db (2.10.2-1) ...\n"
          ]
        }
      ],
      "source": [
        "!apt-get install -y tesseract-ocr\n"
      ]
    },
    {
      "cell_type": "code",
      "execution_count": null,
      "metadata": {
        "colab": {
          "base_uri": "https://localhost:8080/"
        },
        "id": "R2OqKp8TCSQm",
        "outputId": "e92fed4f-c9b6-438c-b79f-301a9b3234e3"
      },
      "outputs": [
        {
          "name": "stdout",
          "output_type": "stream",
          "text": [
            "Reading package lists... Done\n",
            "Building dependency tree... Done\n",
            "Reading state information... Done\n",
            "The following NEW packages will be installed:\n",
            "  poppler-utils\n",
            "0 upgraded, 1 newly installed, 0 to remove and 29 not upgraded.\n",
            "Need to get 186 kB of archives.\n",
            "After this operation, 696 kB of additional disk space will be used.\n",
            "Get:1 http://archive.ubuntu.com/ubuntu jammy-updates/main amd64 poppler-utils amd64 22.02.0-2ubuntu0.6 [186 kB]\n",
            "Fetched 186 kB in 1s (138 kB/s)\n",
            "Selecting previously unselected package poppler-utils.\n",
            "(Reading database ... 124947 files and directories currently installed.)\n",
            "Preparing to unpack .../poppler-utils_22.02.0-2ubuntu0.6_amd64.deb ...\n",
            "Unpacking poppler-utils (22.02.0-2ubuntu0.6) ...\n",
            "Setting up poppler-utils (22.02.0-2ubuntu0.6) ...\n",
            "Processing triggers for man-db (2.10.2-1) ...\n"
          ]
        }
      ],
      "source": [
        "!apt-get install -y poppler-utils"
      ]
    },
    {
      "cell_type": "code",
      "execution_count": null,
      "metadata": {
        "colab": {
          "base_uri": "https://localhost:8080/"
        },
        "id": "r_23TMQgB7q5",
        "outputId": "84067f94-ef10-4b28-ca0f-d29b1cea10df"
      },
      "outputs": [
        {
          "name": "stdout",
          "output_type": "stream",
          "text": [
            "\u001b[?25l   \u001b[90m━━━━━━━━━━━━━━━━━━━━━━━━━━━━━━━━━━━━━━━━\u001b[0m \u001b[32m0.0/302.0 kB\u001b[0m \u001b[31m?\u001b[0m eta \u001b[36m-:--:--\u001b[0m\r\u001b[2K   \u001b[90m━━━━━━━━━━━━━━━━━━━━━━━━━━━━━━━━━━━━━━━━\u001b[0m \u001b[32m302.0/302.0 kB\u001b[0m \u001b[31m18.8 MB/s\u001b[0m eta \u001b[36m0:00:00\u001b[0m\n",
            "\u001b[?25h\u001b[?25l   \u001b[90m━━━━━━━━━━━━━━━━━━━━━━━━━━━━━━━━━━━━━━━━\u001b[0m \u001b[32m0.0/1.2 MB\u001b[0m \u001b[31m?\u001b[0m eta \u001b[36m-:--:--\u001b[0m\r\u001b[2K   \u001b[90m━━━━━━━━━━━━━━━━━━━━━━━━━━━━━━━━━━━━━━━━\u001b[0m \u001b[32m1.2/1.2 MB\u001b[0m \u001b[31m44.9 MB/s\u001b[0m eta \u001b[36m0:00:00\u001b[0m\n",
            "\u001b[?25h\u001b[?25l   \u001b[90m━━━━━━━━━━━━━━━━━━━━━━━━━━━━━━━━━━━━━━━━\u001b[0m \u001b[32m0.0/232.6 kB\u001b[0m \u001b[31m?\u001b[0m eta \u001b[36m-:--:--\u001b[0m\r\u001b[2K   \u001b[90m━━━━━━━━━━━━━━━━━━━━━━━━━━━━━━━━━━━━━━━━\u001b[0m \u001b[32m232.6/232.6 kB\u001b[0m \u001b[31m15.5 MB/s\u001b[0m eta \u001b[36m0:00:00\u001b[0m\n",
            "\u001b[?25hCollecting langchain-community\n",
            "  Downloading langchain_community-0.3.19-py3-none-any.whl.metadata (2.4 kB)\n",
            "Collecting langchain-core<1.0.0,>=0.3.41 (from langchain-community)\n",
            "  Downloading langchain_core-0.3.43-py3-none-any.whl.metadata (5.9 kB)\n",
            "Collecting langchain<1.0.0,>=0.3.20 (from langchain-community)\n",
            "  Downloading langchain-0.3.20-py3-none-any.whl.metadata (7.7 kB)\n",
            "Requirement already satisfied: SQLAlchemy<3,>=1.4 in /usr/local/lib/python3.11/dist-packages (from langchain-community) (2.0.38)\n",
            "Requirement already satisfied: requests<3,>=2 in /usr/local/lib/python3.11/dist-packages (from langchain-community) (2.32.3)\n",
            "Requirement already satisfied: PyYAML>=5.3 in /usr/local/lib/python3.11/dist-packages (from langchain-community) (6.0.2)\n",
            "Requirement already satisfied: aiohttp<4.0.0,>=3.8.3 in /usr/local/lib/python3.11/dist-packages (from langchain-community) (3.11.13)\n",
            "Requirement already satisfied: tenacity!=8.4.0,<10,>=8.1.0 in /usr/local/lib/python3.11/dist-packages (from langchain-community) (9.0.0)\n",
            "Collecting dataclasses-json<0.7,>=0.5.7 (from langchain-community)\n",
            "  Downloading dataclasses_json-0.6.7-py3-none-any.whl.metadata (25 kB)\n",
            "Collecting pydantic-settings<3.0.0,>=2.4.0 (from langchain-community)\n",
            "  Downloading pydantic_settings-2.8.1-py3-none-any.whl.metadata (3.5 kB)\n",
            "Requirement already satisfied: langsmith<0.4,>=0.1.125 in /usr/local/lib/python3.11/dist-packages (from langchain-community) (0.3.11)\n",
            "Requirement already satisfied: httpx-sse<1.0.0,>=0.4.0 in /usr/local/lib/python3.11/dist-packages (from langchain-community) (0.4.0)\n",
            "Requirement already satisfied: numpy<3,>=1.26.2 in /usr/local/lib/python3.11/dist-packages (from langchain-community) (1.26.4)\n",
            "Requirement already satisfied: aiohappyeyeballs>=2.3.0 in /usr/local/lib/python3.11/dist-packages (from aiohttp<4.0.0,>=3.8.3->langchain-community) (2.4.6)\n",
            "Requirement already satisfied: aiosignal>=1.1.2 in /usr/local/lib/python3.11/dist-packages (from aiohttp<4.0.0,>=3.8.3->langchain-community) (1.3.2)\n",
            "Requirement already satisfied: attrs>=17.3.0 in /usr/local/lib/python3.11/dist-packages (from aiohttp<4.0.0,>=3.8.3->langchain-community) (25.1.0)\n",
            "Requirement already satisfied: frozenlist>=1.1.1 in /usr/local/lib/python3.11/dist-packages (from aiohttp<4.0.0,>=3.8.3->langchain-community) (1.5.0)\n",
            "Requirement already satisfied: multidict<7.0,>=4.5 in /usr/local/lib/python3.11/dist-packages (from aiohttp<4.0.0,>=3.8.3->langchain-community) (6.1.0)\n",
            "Requirement already satisfied: propcache>=0.2.0 in /usr/local/lib/python3.11/dist-packages (from aiohttp<4.0.0,>=3.8.3->langchain-community) (0.3.0)\n",
            "Requirement already satisfied: yarl<2.0,>=1.17.0 in /usr/local/lib/python3.11/dist-packages (from aiohttp<4.0.0,>=3.8.3->langchain-community) (1.18.3)\n",
            "Collecting marshmallow<4.0.0,>=3.18.0 (from dataclasses-json<0.7,>=0.5.7->langchain-community)\n",
            "  Downloading marshmallow-3.26.1-py3-none-any.whl.metadata (7.3 kB)\n",
            "Collecting typing-inspect<1,>=0.4.0 (from dataclasses-json<0.7,>=0.5.7->langchain-community)\n",
            "  Downloading typing_inspect-0.9.0-py3-none-any.whl.metadata (1.5 kB)\n",
            "Requirement already satisfied: langchain-text-splitters<1.0.0,>=0.3.6 in /usr/local/lib/python3.11/dist-packages (from langchain<1.0.0,>=0.3.20->langchain-community) (0.3.6)\n",
            "Requirement already satisfied: pydantic<3.0.0,>=2.7.4 in /usr/local/lib/python3.11/dist-packages (from langchain<1.0.0,>=0.3.20->langchain-community) (2.10.6)\n",
            "Requirement already satisfied: jsonpatch<2.0,>=1.33 in /usr/local/lib/python3.11/dist-packages (from langchain-core<1.0.0,>=0.3.41->langchain-community) (1.33)\n",
            "Requirement already satisfied: packaging<25,>=23.2 in /usr/local/lib/python3.11/dist-packages (from langchain-core<1.0.0,>=0.3.41->langchain-community) (24.2)\n",
            "Requirement already satisfied: typing-extensions>=4.7 in /usr/local/lib/python3.11/dist-packages (from langchain-core<1.0.0,>=0.3.41->langchain-community) (4.12.2)\n",
            "Requirement already satisfied: httpx<1,>=0.23.0 in /usr/local/lib/python3.11/dist-packages (from langsmith<0.4,>=0.1.125->langchain-community) (0.28.1)\n",
            "Requirement already satisfied: orjson<4.0.0,>=3.9.14 in /usr/local/lib/python3.11/dist-packages (from langsmith<0.4,>=0.1.125->langchain-community) (3.10.15)\n",
            "Requirement already satisfied: requests-toolbelt<2.0.0,>=1.0.0 in /usr/local/lib/python3.11/dist-packages (from langsmith<0.4,>=0.1.125->langchain-community) (1.0.0)\n",
            "Requirement already satisfied: zstandard<0.24.0,>=0.23.0 in /usr/local/lib/python3.11/dist-packages (from langsmith<0.4,>=0.1.125->langchain-community) (0.23.0)\n",
            "Requirement already satisfied: python-dotenv>=0.21.0 in /usr/local/lib/python3.11/dist-packages (from pydantic-settings<3.0.0,>=2.4.0->langchain-community) (1.0.1)\n",
            "Requirement already satisfied: charset-normalizer<4,>=2 in /usr/local/lib/python3.11/dist-packages (from requests<3,>=2->langchain-community) (3.4.1)\n",
            "Requirement already satisfied: idna<4,>=2.5 in /usr/local/lib/python3.11/dist-packages (from requests<3,>=2->langchain-community) (3.10)\n",
            "Requirement already satisfied: urllib3<3,>=1.21.1 in /usr/local/lib/python3.11/dist-packages (from requests<3,>=2->langchain-community) (2.3.0)\n",
            "Requirement already satisfied: certifi>=2017.4.17 in /usr/local/lib/python3.11/dist-packages (from requests<3,>=2->langchain-community) (2025.1.31)\n",
            "Requirement already satisfied: greenlet!=0.4.17 in /usr/local/lib/python3.11/dist-packages (from SQLAlchemy<3,>=1.4->langchain-community) (3.1.1)\n",
            "Requirement already satisfied: anyio in /usr/local/lib/python3.11/dist-packages (from httpx<1,>=0.23.0->langsmith<0.4,>=0.1.125->langchain-community) (3.7.1)\n",
            "Requirement already satisfied: httpcore==1.* in /usr/local/lib/python3.11/dist-packages (from httpx<1,>=0.23.0->langsmith<0.4,>=0.1.125->langchain-community) (1.0.7)\n",
            "Requirement already satisfied: h11<0.15,>=0.13 in /usr/local/lib/python3.11/dist-packages (from httpcore==1.*->httpx<1,>=0.23.0->langsmith<0.4,>=0.1.125->langchain-community) (0.14.0)\n",
            "Requirement already satisfied: jsonpointer>=1.9 in /usr/local/lib/python3.11/dist-packages (from jsonpatch<2.0,>=1.33->langchain-core<1.0.0,>=0.3.41->langchain-community) (3.0.0)\n",
            "Requirement already satisfied: annotated-types>=0.6.0 in /usr/local/lib/python3.11/dist-packages (from pydantic<3.0.0,>=2.7.4->langchain<1.0.0,>=0.3.20->langchain-community) (0.7.0)\n",
            "Requirement already satisfied: pydantic-core==2.27.2 in /usr/local/lib/python3.11/dist-packages (from pydantic<3.0.0,>=2.7.4->langchain<1.0.0,>=0.3.20->langchain-community) (2.27.2)\n",
            "Collecting mypy-extensions>=0.3.0 (from typing-inspect<1,>=0.4.0->dataclasses-json<0.7,>=0.5.7->langchain-community)\n",
            "  Downloading mypy_extensions-1.0.0-py3-none-any.whl.metadata (1.1 kB)\n",
            "Requirement already satisfied: sniffio>=1.1 in /usr/local/lib/python3.11/dist-packages (from anyio->httpx<1,>=0.23.0->langsmith<0.4,>=0.1.125->langchain-community) (1.3.1)\n",
            "Downloading langchain_community-0.3.19-py3-none-any.whl (2.5 MB)\n",
            "\u001b[2K   \u001b[90m━━━━━━━━━━━━━━━━━━━━━━━━━━━━━━━━━━━━━━━━\u001b[0m \u001b[32m2.5/2.5 MB\u001b[0m \u001b[31m26.2 MB/s\u001b[0m eta \u001b[36m0:00:00\u001b[0m\n",
            "\u001b[?25hDownloading dataclasses_json-0.6.7-py3-none-any.whl (28 kB)\n",
            "Downloading langchain-0.3.20-py3-none-any.whl (1.0 MB)\n",
            "\u001b[2K   \u001b[90m━━━━━━━━━━━━━━━━━━━━━━━━━━━━━━━━━━━━━━━━\u001b[0m \u001b[32m1.0/1.0 MB\u001b[0m \u001b[31m64.2 MB/s\u001b[0m eta \u001b[36m0:00:00\u001b[0m\n",
            "\u001b[?25hDownloading langchain_core-0.3.43-py3-none-any.whl (415 kB)\n",
            "\u001b[2K   \u001b[90m━━━━━━━━━━━━━━━━━━━━━━━━━━━━━━━━━━━━━━━━\u001b[0m \u001b[32m415.4/415.4 kB\u001b[0m \u001b[31m35.5 MB/s\u001b[0m eta \u001b[36m0:00:00\u001b[0m\n",
            "\u001b[?25hDownloading pydantic_settings-2.8.1-py3-none-any.whl (30 kB)\n",
            "Downloading marshmallow-3.26.1-py3-none-any.whl (50 kB)\n",
            "\u001b[2K   \u001b[90m━━━━━━━━━━━━━━━━━━━━━━━━━━━━━━━━━━━━━━━━\u001b[0m \u001b[32m50.9/50.9 kB\u001b[0m \u001b[31m5.1 MB/s\u001b[0m eta \u001b[36m0:00:00\u001b[0m\n",
            "\u001b[?25hDownloading typing_inspect-0.9.0-py3-none-any.whl (8.8 kB)\n",
            "Downloading mypy_extensions-1.0.0-py3-none-any.whl (4.7 kB)\n",
            "Installing collected packages: mypy-extensions, marshmallow, typing-inspect, pydantic-settings, dataclasses-json, langchain-core, langchain, langchain-community\n",
            "  Attempting uninstall: langchain-core\n",
            "    Found existing installation: langchain-core 0.3.40\n",
            "    Uninstalling langchain-core-0.3.40:\n",
            "      Successfully uninstalled langchain-core-0.3.40\n",
            "  Attempting uninstall: langchain\n",
            "    Found existing installation: langchain 0.3.19\n",
            "    Uninstalling langchain-0.3.19:\n",
            "      Successfully uninstalled langchain-0.3.19\n",
            "Successfully installed dataclasses-json-0.6.7 langchain-0.3.20 langchain-community-0.3.19 langchain-core-0.3.43 marshmallow-3.26.1 mypy-extensions-1.0.0 pydantic-settings-2.8.1 typing-inspect-0.9.0\n"
          ]
        }
      ],
      "source": [
        "!pip install -q pytesseract pdf2image langchain langchain-mistralai pypdf tiktoken python-dotenv PyPDF2\n",
        "!pip install -U langchain-community"
      ]
    },
    {
      "cell_type": "code",
      "execution_count": null,
      "metadata": {
        "id": "bK3i2d17By39"
      },
      "outputs": [],
      "source": []
    }
  ],
  "metadata": {
    "accelerator": "GPU",
    "colab": {
      "gpuType": "T4",
      "provenance": []
    },
    "kernelspec": {
      "display_name": "Python 3",
      "name": "python3"
    },
    "language_info": {
      "name": "python"
    }
  },
  "nbformat": 4,
  "nbformat_minor": 0
}
